{
 "cells": [
  {
   "cell_type": "markdown",
   "id": "58d368f0-adf0-4fa1-89a4-fe3e2528ca93",
   "metadata": {},
   "source": [
    "### Custom Metrics SDK\n",
    "\n",
    "Use Domino’s Custom Model Monitoring Metrics SDK to define custom metrics and use them alongside out-of-the-box drift and model quality metrics that are monitored in Domino Model Monitor. With this SDK, you can register new metrics and define the logic to compute them. You can author this logic and evaluate it from within a Domino project.\n",
    "\n",
    "For every model that you register for monitoring, you can select a registered metric, associate the data sources from which the metric is computed, and set up the execution environment to compute this metric on a periodic basis. You are notified by email when a metric behaves abnormally based on threshold definitions.\n",
    "\n",
    "For end-to-end working code with a description of the workflow, see the custom metrics example folder in the quick-start project\n"
   ]
  },
  {
   "cell_type": "markdown",
   "id": "e46987f7-f637-4875-a885-10ca49ac6ada",
   "metadata": {},
   "source": [
    "### Step 1: Instantiate the client\n",
    "\n",
    "First, start the custom_metrics_client, and assign the custom metric to an exisitng model in Domino Model Monitoring."
   ]
  },
  {
   "cell_type": "code",
   "execution_count": 2,
   "id": "4de161c8-b211-4bd4-af44-cbb77057c5f2",
   "metadata": {
    "tags": []
   },
   "outputs": [
    {
     "data": {
      "text/plain": [
       "<domino._custom_metrics._CustomMetricsClientGen at 0x7f9803b03d90>"
      ]
     },
     "execution_count": 2,
     "metadata": {},
     "output_type": "execute_result"
    }
   ],
   "source": [
    "import domino\n",
    "import numpy as np\n",
    "import pandas as pd\n",
    "import datetime\n",
    "import os\n",
    "import yaml\n",
    "\n",
    "d = domino.Domino(\n",
    "    \"{}/{}\".format(os.environ['DOMINO_USER_NAME'], os.environ['DOMINO_PROJECT_NAME']),\n",
    "    api_key=os.environ[\"DOMINO_USER_API_KEY\"],\n",
    "    host=os.environ[\"DOMINO_API_HOST\"],\n",
    ")\n",
    "\n",
    "# Load the config file\n",
    "with open(\"/mnt/artifacts/DMM_config.yaml\") as yamlfile:\n",
    "    config = yaml.safe_load(yamlfile)\n",
    "\n",
    "# Attach alerts to the external model built in \"2_External_DMM_Quickstart.ipynb\" \n",
    "dmm_model_id = config['external_model_id']\n",
    "\n",
    "# Initiate the Project\n",
    "# d = domino.Domino(\"{}/{}\".format(os.environ['DOMINO_USER_NAME'], os.environ['DOMINO_PROJECT_NAME']))\n",
    "metrics_client = d.custom_metrics_client()\n",
    "\n",
    "metrics_client"
   ]
  },
  {
   "cell_type": "markdown",
   "id": "63d8a258-d114-4acd-9a72-af2c9a7261c3",
   "metadata": {},
   "source": [
    "### Log the custom metrics:\n",
    "\n",
    "**modelMonitoringId:** ID of the monitored model to send metric alerts for\n",
    "\n",
    "**metric**: Name of the metric to send alert for\n",
    "\n",
    "**value:** Value of the metric\n",
    "\n",
    "**timestamp:** Timezone is in UTC in ISO 8601 format.\n",
    "\n",
    "**tags:** Custom metadata for metric represented as key-value string pairs"
   ]
  },
  {
   "cell_type": "markdown",
   "id": "00f15dbb-6b20-4a7a-becc-24867a407d45",
   "metadata": {
    "tags": []
   },
   "source": [
    "### Define your custom metric\n",
    "\n",
    "Custom Metric for Iris Use Case: Hellinger Diatance\n",
    "\n",
    "https://en.wikipedia.org/wiki/Hellinger_distance"
   ]
  },
  {
   "cell_type": "code",
   "execution_count": 3,
   "id": "725a584d-df90-439b-be3a-633b776455ce",
   "metadata": {
    "tags": []
   },
   "outputs": [],
   "source": [
    "def hellinger_distance(train, inference):\n",
    "    \n",
    "    # distance between training data and inference data\n",
    "    # train is the ditribution of an input feature in the training data\n",
    "    # inference is the dsitribution of a feature being sent to the model API\n",
    "    \n",
    "    n = min(len(train), len(inference))\n",
    "    sum = 0.0\n",
    "    \n",
    "    for i in range(n):\n",
    "        sum += (np.sqrt(train[i]) - np.sqrt(inference[i]))**2\n",
    "        \n",
    "    result = (1.0 / np.sqrt(2.0)) * np.sqrt(sum)\n",
    "    \n",
    "    return result"
   ]
  },
  {
   "cell_type": "markdown",
   "id": "e785a782-6eb5-4c7d-9412-9d99bac120e6",
   "metadata": {},
   "source": [
    "#### Fetch Training set distribution for selected column"
   ]
  },
  {
   "cell_type": "code",
   "execution_count": 4,
   "id": "15c0e109-03d2-4436-b1ac-417d8aa4e7b2",
   "metadata": {
    "tags": []
   },
   "outputs": [
    {
     "name": "stdout",
     "output_type": "stream",
     "text": [
      "[TrainingSet(name='iris_python_multi_classification_DMM-Quickstart', project_id='65b039d11266902edb95b22e', description=<training_set_api_client.types.Unset object at 0x7f97b7721ee0>, meta={})]\n",
      "0    4.9\n",
      "1    3.8\n",
      "2    4.0\n",
      "3    3.5\n",
      "4    1.4\n",
      "Name: petal length (cm), dtype: float64\n"
     ]
    }
   ],
   "source": [
    "# Calculate the Metric\n",
    "from domino.training_sets import TrainingSetClient, model\n",
    "\n",
    "# Column we want to calculate metric for\n",
    "drift_column_name = 'petal length (cm)'\n",
    "\n",
    "# Print existing Training Sets in this Project\n",
    "\n",
    "ts = TrainingSetClient.list_training_sets()\n",
    "print(ts)\n",
    "\n",
    "training_set = TrainingSetClient.get_training_set_version(\n",
    "    training_set_name = \"iris_python_multi_classification_{}\".format(os.environ.get('DOMINO_PROJECT_NAME')),\n",
    "    number=1\n",
    "    )\n",
    "\n",
    "training_df = training_set.load_training_pandas()\n",
    "train = training_df[drift_column_name]\n",
    "\n",
    "print(train[:5])"
   ]
  },
  {
   "cell_type": "markdown",
   "id": "cc071a0d-3baa-4d5b-939f-c1f234e3b468",
   "metadata": {
    "tags": []
   },
   "source": [
    "#### Fetch Inference data"
   ]
  },
  {
   "cell_type": "code",
   "execution_count": 5,
   "id": "1e302e39-725a-40a9-964f-e14b5c952e3f",
   "metadata": {
    "tags": []
   },
   "outputs": [],
   "source": [
    "scoring_data = pd.read_csv('/mnt/code/data/external_model_scoring_data.csv')\n",
    "\n",
    "inference = scoring_data[drift_column_name]"
   ]
  },
  {
   "cell_type": "markdown",
   "id": "74e3a898-8060-4aa6-a39f-eb0e8c997bb6",
   "metadata": {
    "tags": []
   },
   "source": [
    "#### Calculate your metric"
   ]
  },
  {
   "cell_type": "code",
   "execution_count": 6,
   "id": "a08d1b2e-1813-4e12-93bb-4f15935fa594",
   "metadata": {
    "tags": []
   },
   "outputs": [
    {
     "name": "stdout",
     "output_type": "stream",
     "text": [
      "Hellinger distance between scoring and traiing data is: 5.026\n"
     ]
    }
   ],
   "source": [
    "hellinger_distance = hellinger_distance(train, inference)\n",
    "print('Hellinger distance between scoring and traiing data is: {}'.format(str(round(hellinger_distance, 3))))"
   ]
  },
  {
   "cell_type": "markdown",
   "id": "0539abd8-5202-458c-8967-64c71e8e724a",
   "metadata": {
    "tags": []
   },
   "source": [
    "#### Log your metric with Model Monitoring"
   ]
  },
  {
   "cell_type": "code",
   "execution_count": 21,
   "id": "064ee4dd-c4b4-4a96-b7d5-53631d7c8158",
   "metadata": {
    "tags": []
   },
   "outputs": [
    {
     "name": "stdout",
     "output_type": "stream",
     "text": [
      "{'metadata': {'requestId': 'c1526758-71a3-4f4f-b51e-d193fbfdf7bf', 'notices': ()}, 'metricValues': [{'timestamp': '2024-05-06T18:51:11Z', 'value': 5.02612724699666, 'tags': {'Column': 'petal length (cm)'}}, {'timestamp': '2024-05-06T19:15:35Z', 'value': 5.02612724699666, 'tags': {'Column': 'petal length (cm)'}}, {'timestamp': '2024-05-06T19:19:17Z', 'value': 5.02612724699666, 'tags': {'Column': 'petal length (cm)'}}, {'timestamp': '2024-05-07T22:48:46Z', 'value': 5.02612724699666, 'tags': {'Column': 'petal length (cm)'}}, {'timestamp': '2024-05-08T21:33:07Z', 'value': 5.02612724699666, 'tags': {'Column': 'petal length (cm)'}}, {'timestamp': '2024-05-08T21:42:41Z', 'value': 9.0, 'tags': {'Column': 'petal length (cm)'}}, {'timestamp': '2024-05-08T21:43:20Z', 'value': 10.0, 'tags': {'Column': 'petal length (cm)'}}]}\n"
     ]
    }
   ],
   "source": [
    "# Retrieve the stored metrics for the last 3 years \n",
    "import datetime\n",
    "from datetime import timezone\n",
    "import logging\n",
    "import rfc3339\n",
    "\n",
    "# Get time stamps for now and 1 year ago\n",
    "startDate = datetime.datetime.today() - datetime.timedelta(days=365*3)\n",
    "startDate = rfc3339.rfc3339(startDate)\n",
    "endDate = rfc3339.rfc3339(datetime.datetime.today())\n",
    "\n",
    "# Retrieve the metrics over the last year\n",
    "try:\n",
    "    res = metrics_client.read_metrics(dmm_model_id, \"hellinger_distance\", startDate, endDate)\n",
    "    \n",
    "except Exception as err:\n",
    "    logging.error(\"Unable to fetch metrics\")\n",
    "    raise err\n",
    "    \n",
    "print(res)"
   ]
  },
  {
   "cell_type": "code",
   "execution_count": 20,
   "id": "b2f8491f-2ae1-41c8-afdd-4df9fbb856a6",
   "metadata": {
    "tags": []
   },
   "outputs": [
    {
     "name": "stdout",
     "output_type": "stream",
     "text": [
      "66342446965e21e5b0d56d43\n",
      "9\n",
      "2024-05-08T21:43:20+00:00\n",
      "petal length (cm)\n"
     ]
    }
   ],
   "source": [
    "# timestamp = \"2023-12-17T00:00:00Z\"\n",
    "timestamp = rfc3339.rfc3339(datetime.datetime.now()) # datetime.datetime.now().isoformat()\n",
    "\n",
    "print(dmm_model_id)\n",
    "print(hellinger_distance)\n",
    "print(timestamp)\n",
    "print(drift_column_name)\n",
    "\n",
    "metrics_client.log_metric(dmm_model_id, \"hellinger_distance\", hellinger_distance, timestamp, { \"Column\" : drift_column_name})\n",
    "\n",
    "# Sample code for logging multiple metrics\n",
    "# metrics_client.log_metrics([\n",
    "# { \"modelMonitoringId\" : dmm_model_id, \"metric\" : \"accuracy\", \"value\" : 7.1234,\n",
    "# \"timestamp\" : \"2022-10-08T00:00:00Z\",\n",
    "# \"tags\" : { \"example_tag1\" : \"value1\", \"example_tag2\" : \"value2\" }\n",
    "# ]\n",
    "# },\n",
    "# { \"modelMonitoringId\" : dmm_model_id, \"metric\" : \"other_metric\", \"value\" : 8.4567,\n",
    "# \"timestamp\" : \"2022-10-09T00:00:00Z\" }\n",
    "# ])\n"
   ]
  },
  {
   "cell_type": "markdown",
   "id": "39782a8e-19b1-4dd2-89bb-34a14d00c1c7",
   "metadata": {},
   "source": [
    "#### Send a custom metrics alert:\n",
    "\n",
    "**modelMonitoringId:** ID of the monitored model for which to send metric alerts.\n",
    "\n",
    "**metric:** Name of the metric for which to send the alert.\n",
    "\n",
    "**value:** Value of the metric.\n",
    "\n",
    "**condition:** Target range for the metric defined by lower and upper limit bounds.\n",
    "The following are potential values for the condition argument:\n",
    "\n",
    "    metrics_client.LESS_THAN = \"lessThan\"\n",
    "\n",
    "    metrics_client.LESS_THAN_EQUAL = \"lessThanEqual\"\n",
    "\n",
    "    metrics_client.GREATER_THAN = \"greaterThan\"\n",
    "\n",
    "    metrics_client.GREATER_THAN_EQUAL = \"greaterThanEqual\"\n",
    "\n",
    "    metrics_client.BETWEEN = \"between\"\n",
    "\n",
    "**lower_limit:** The lower limit for the condition.\n",
    "\n",
    "**upper_limit:** The upper limit for the condition.\n",
    "\n",
    "**description:** Optional message included in the alert."
   ]
  },
  {
   "cell_type": "code",
   "execution_count": 25,
   "id": "add167f6-aa91-42c4-aad9-6d989ebd064f",
   "metadata": {
    "tags": []
   },
   "outputs": [],
   "source": [
    "# Set alert above threshold\n",
    "dmm_model_id = config['external_model_id']\n",
    "drift_column_name = 'petal length (cm)'\n",
    "timestamp = rfc3339.rfc3339(datetime.datetime.now())\n",
    "\n",
    "hellinger_distance = 9\n",
    "\n",
    "metrics_client.log_metric(dmm_model_id, \"hellinger_distance\", hellinger_distance, timestamp, { \"Column\" : drift_column_name})\n",
    "\n",
    "\n",
    "metrics_client.trigger_alert(dmm_model_id, \n",
    "                             \"hellinger_distance\", \n",
    "                             hellinger_distance, \n",
    "                             condition = metrics_client.BETWEEN, \n",
    "                             lower_limit=6,\n",
    "                             upper_limit=8,\n",
    "                             description = \"Hellinger distance breached 6.0-8.0 range.\" \n",
    "                            )"
   ]
  }
 ],
 "metadata": {
  "dca-init": "true",
  "kernelspec": {
   "display_name": "Python 3 (ipykernel)",
   "language": "python",
   "name": "python3"
  },
  "language_info": {
   "codemirror_mode": {
    "name": "ipython",
    "version": 3
   },
   "file_extension": ".py",
   "mimetype": "text/x-python",
   "name": "python",
   "nbconvert_exporter": "python",
   "pygments_lexer": "ipython3",
   "version": "3.9.18"
  }
 },
 "nbformat": 4,
 "nbformat_minor": 5
}
